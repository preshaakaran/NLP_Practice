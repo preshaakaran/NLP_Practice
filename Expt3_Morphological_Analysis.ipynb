{
  "nbformat": 4,
  "nbformat_minor": 0,
  "metadata": {
    "colab": {
      "provenance": []
    },
    "kernelspec": {
      "name": "python3",
      "display_name": "Python 3"
    },
    "language_info": {
      "name": "python"
    }
  },
  "cells": [
    {
      "cell_type": "code",
      "execution_count": 1,
      "metadata": {
        "colab": {
          "base_uri": "https://localhost:8080/"
        },
        "id": "CH1iAiYFjKAj",
        "outputId": "ea9fe620-d333-4a50-a7a5-8b399795356f"
      },
      "outputs": [
        {
          "output_type": "stream",
          "name": "stderr",
          "text": [
            "[nltk_data] Downloading package punkt to /root/nltk_data...\n",
            "[nltk_data]   Unzipping tokenizers/punkt.zip.\n",
            "[nltk_data] Downloading package averaged_perceptron_tagger to\n",
            "[nltk_data]     /root/nltk_data...\n",
            "[nltk_data]   Unzipping taggers/averaged_perceptron_tagger.zip.\n",
            "[nltk_data] Downloading package wordnet to /root/nltk_data...\n"
          ]
        },
        {
          "output_type": "execute_result",
          "data": {
            "text/plain": [
              "True"
            ]
          },
          "metadata": {},
          "execution_count": 1
        }
      ],
      "source": [
        "import nltk\n",
        "from nltk.tokenize import word_tokenize\n",
        "from nltk.corpus import wordnet\n",
        "from nltk.stem import WordNetLemmatizer\n",
        "nltk.download('punkt')\n",
        "nltk.download('averaged_perceptron_tagger')\n",
        "nltk.download('wordnet')"
      ]
    },
    {
      "cell_type": "code",
      "source": [
        "def morphological_analysis(text):\n",
        "  tokens = word_tokenize(text)\n",
        "  lemmatizer = WordNetLemmatizer()\n",
        "  morphological_results = []\n",
        "  for token in tokens:\n",
        "    pos_tags = nltk.pos_tag([token])\n",
        "    pos = pos_tags[0][1]\n",
        "    lemma = lemmatizer.lemmatize(token)\n",
        "    generated_word = generate_word(pos, lemma)\n",
        "    morphological_results.append((token, pos, lemma,\n",
        "    generated_word))\n",
        "  return morphological_results\n",
        "\n",
        "def generate_word(pos, lemma):\n",
        "  synsets = wordnet.synsets(lemma)\n",
        "  if synsets:\n",
        "    return synsets[0].lemmas()[0].name()\n",
        "  else:\n",
        "    return lemma"
      ],
      "metadata": {
        "id": "z6_Ft0RMjRQG"
      },
      "execution_count": 2,
      "outputs": []
    },
    {
      "cell_type": "code",
      "source": [
        "input_text = input(\"Enter a sentence for morphological analysis: \")\n",
        "analysis_results = morphological_analysis(input_text)\n",
        "print(\"\\nMorphological Analysis Results:\")\n",
        "for result in analysis_results:\n",
        "  print(f\"Original Word: {result[0]}, POS: {result[1]}, Lemma: {result[2]}, Generated Word: {result[3]}\")\n",
        "\n",
        "print(\"\\nMorphological Analysis Results:\")\n",
        "for result in analysis_results:\n",
        "  print(f\"Original Word: {result[0]}, POS: {result[1]},Lemma: {result[2]}, Generated Word: {result[3]}\")"
      ],
      "metadata": {
        "colab": {
          "base_uri": "https://localhost:8080/"
        },
        "id": "Uta0HK9PjnWj",
        "outputId": "c950fe89-f76e-40ee-b789-b130931bc5f5"
      },
      "execution_count": 6,
      "outputs": [
        {
          "output_type": "stream",
          "name": "stdout",
          "text": [
            "Enter a sentence for morphological analysis: The experiment analyzes word structure through morphemes and applies rules for generating new forms, enhancing tasks like translation, spell-checking, and speech recognition.\n",
            "\n",
            "Morphological Analysis Results:\n",
            "Original Word: The, POS: DT, Lemma: The, Generated Word: The\n",
            "Original Word: experiment, POS: NN, Lemma: experiment, Generated Word: experiment\n",
            "Original Word: analyzes, POS: NNS, Lemma: analyzes, Generated Word: analyze\n",
            "Original Word: word, POS: NN, Lemma: word, Generated Word: word\n",
            "Original Word: structure, POS: NN, Lemma: structure, Generated Word: structure\n",
            "Original Word: through, POS: IN, Lemma: through, Generated Word: done\n",
            "Original Word: morphemes, POS: NNS, Lemma: morpheme, Generated Word: morpheme\n",
            "Original Word: and, POS: CC, Lemma: and, Generated Word: and\n",
            "Original Word: applies, POS: NNS, Lemma: applies, Generated Word: use\n",
            "Original Word: rules, POS: NNS, Lemma: rule, Generated Word: rule\n",
            "Original Word: for, POS: IN, Lemma: for, Generated Word: for\n",
            "Original Word: generating, POS: VBG, Lemma: generating, Generated Word: generate\n",
            "Original Word: new, POS: JJ, Lemma: new, Generated Word: new\n",
            "Original Word: forms, POS: NNS, Lemma: form, Generated Word: form\n",
            "Original Word: ,, POS: ,, Lemma: ,, Generated Word: ,\n",
            "Original Word: enhancing, POS: VBG, Lemma: enhancing, Generated Word: enhance\n",
            "Original Word: tasks, POS: NNS, Lemma: task, Generated Word: undertaking\n",
            "Original Word: like, POS: IN, Lemma: like, Generated Word: like\n",
            "Original Word: translation, POS: NN, Lemma: translation, Generated Word: translation\n",
            "Original Word: ,, POS: ,, Lemma: ,, Generated Word: ,\n",
            "Original Word: spell-checking, POS: NN, Lemma: spell-checking, Generated Word: spell-checking\n",
            "Original Word: ,, POS: ,, Lemma: ,, Generated Word: ,\n",
            "Original Word: and, POS: CC, Lemma: and, Generated Word: and\n",
            "Original Word: speech, POS: NN, Lemma: speech, Generated Word: address\n",
            "Original Word: recognition, POS: NN, Lemma: recognition, Generated Word: recognition\n",
            "Original Word: ., POS: ., Lemma: ., Generated Word: .\n",
            "\n",
            "Morphological Analysis Results:\n",
            "Original Word: The, POS: DT,Lemma: The, Generated Word: The\n",
            "Original Word: experiment, POS: NN,Lemma: experiment, Generated Word: experiment\n",
            "Original Word: analyzes, POS: NNS,Lemma: analyzes, Generated Word: analyze\n",
            "Original Word: word, POS: NN,Lemma: word, Generated Word: word\n",
            "Original Word: structure, POS: NN,Lemma: structure, Generated Word: structure\n",
            "Original Word: through, POS: IN,Lemma: through, Generated Word: done\n",
            "Original Word: morphemes, POS: NNS,Lemma: morpheme, Generated Word: morpheme\n",
            "Original Word: and, POS: CC,Lemma: and, Generated Word: and\n",
            "Original Word: applies, POS: NNS,Lemma: applies, Generated Word: use\n",
            "Original Word: rules, POS: NNS,Lemma: rule, Generated Word: rule\n",
            "Original Word: for, POS: IN,Lemma: for, Generated Word: for\n",
            "Original Word: generating, POS: VBG,Lemma: generating, Generated Word: generate\n",
            "Original Word: new, POS: JJ,Lemma: new, Generated Word: new\n",
            "Original Word: forms, POS: NNS,Lemma: form, Generated Word: form\n",
            "Original Word: ,, POS: ,,Lemma: ,, Generated Word: ,\n",
            "Original Word: enhancing, POS: VBG,Lemma: enhancing, Generated Word: enhance\n",
            "Original Word: tasks, POS: NNS,Lemma: task, Generated Word: undertaking\n",
            "Original Word: like, POS: IN,Lemma: like, Generated Word: like\n",
            "Original Word: translation, POS: NN,Lemma: translation, Generated Word: translation\n",
            "Original Word: ,, POS: ,,Lemma: ,, Generated Word: ,\n",
            "Original Word: spell-checking, POS: NN,Lemma: spell-checking, Generated Word: spell-checking\n",
            "Original Word: ,, POS: ,,Lemma: ,, Generated Word: ,\n",
            "Original Word: and, POS: CC,Lemma: and, Generated Word: and\n",
            "Original Word: speech, POS: NN,Lemma: speech, Generated Word: address\n",
            "Original Word: recognition, POS: NN,Lemma: recognition, Generated Word: recognition\n",
            "Original Word: ., POS: .,Lemma: ., Generated Word: .\n"
          ]
        }
      ]
    },
    {
      "cell_type": "code",
      "source": [],
      "metadata": {
        "id": "T-qb7DTLjtAp"
      },
      "execution_count": null,
      "outputs": []
    }
  ]
}